{
 "cells": [
  {
   "cell_type": "markdown",
   "metadata": {},
   "source": [
    "# Workflow Specification"
   ]
  },
  {
   "cell_type": "markdown",
   "metadata": {},
   "source": [
    "A SoS script can specify one or more workflows. Each workflow consists of one or more numbered steps. The numbers (should be non-negative) specify the **logical order** by which the steps are executed, but a later step might be executed before the completion of previous steps if it does not depend on the output of these steps.\n",
    "\n",
    "This tutorial shows you how to define steps in a workflow and how to construct nested and combined workflows from single workflows. Although a Jupyter notebook, because of its interactive nature, is rarely used to execute complete workflows, we define workflows in notebook cells and execute them with options passed from cell magics such as `%set` and `%run`. Briefly speaking, `%set` sets persistent and global command line options and `%run` sets additional temporary options for the current cell. For example, the following command sets verbosity level to 2 so that SoS would display log messages of steps executed."
   ]
  },
  {
   "cell_type": "code",
   "execution_count": 1,
   "metadata": {
    "collapsed": false
   },
   "outputs": [
    {
     "name": "stdout",
     "output_type": "stream",
     "text": [
      "sos options is set to \"-v2\"\n"
     ]
    }
   ],
   "source": [
    "# set global logging level to INFO to display step executed. \n",
    "%set -v2"
   ]
  },
  {
   "cell_type": "markdown",
   "metadata": {},
   "source": [
    "## Single default workflow"
   ]
  },
  {
   "cell_type": "markdown",
   "metadata": {},
   "source": [
    "Each step of a workflow starts with a **step header** in the format of `[step_name: options]`. A single workflow can be specified without a name in a SoS script. For example, the following sections specify a workflow with four steps `5`, `10`, `20`, and `100`. As you can see, the workflow steps can be specified in any order and do not have to be consecutive (which is actually preferred because it allows easy insertion of extra steps)."
   ]
  },
  {
   "cell_type": "code",
   "execution_count": 2,
   "metadata": {
    "collapsed": false
   },
   "outputs": [
    {
     "name": "stderr",
     "output_type": "stream",
     "text": [
      "INFO: Running \u001b[32mdefault_5\u001b[0m: \n",
      "INFO: Running \u001b[32mdefault_10\u001b[0m: \n",
      "INFO: Running \u001b[32mdefault_20\u001b[0m: \n",
      "INFO: Running \u001b[32mdefault_100\u001b[0m: \n"
     ]
    }
   ],
   "source": [
    "[5]\n",
    "[20]\n",
    "[10]\n",
    "[100]"
   ]
  },
  {
   "cell_type": "markdown",
   "metadata": {},
   "source": [
    "Workflows specified in this way is the `default` workflow and are actually called `default` in SoS output. If you want to give it a meaningful name, you can specify the steps as"
   ]
  },
  {
   "cell_type": "code",
   "execution_count": 3,
   "metadata": {
    "collapsed": false
   },
   "outputs": [
    {
     "name": "stderr",
     "output_type": "stream",
     "text": [
      "INFO: Running \u001b[32mmapping_5\u001b[0m: \n",
      "INFO: Running \u001b[32mmapping_10\u001b[0m: \n",
      "INFO: Running \u001b[32mmapping_20\u001b[0m: \n",
      "INFO: Running \u001b[32mmapping_100\u001b[0m: \n"
     ]
    }
   ],
   "source": [
    "[mapping_5]\n",
    "[mapping_20]\n",
    "[mapping_10]\n",
    "[mapping_100]"
   ]
  },
  {
   "cell_type": "markdown",
   "metadata": {},
   "source": [
    "Because this SoS script defines only one workflow (`mapping`), you do not have to specify the name of workflow from SoS command\n",
    "\n",
    "```bash\n",
    "sos run myscript --input input1.fasta\n",
    "```"
   ]
  },
  {
   "cell_type": "markdown",
   "metadata": {},
   "source": [
    "The index of a step can be ignored if it is the only step of a workflow. "
   ]
  },
  {
   "cell_type": "code",
   "execution_count": 4,
   "metadata": {
    "collapsed": false
   },
   "outputs": [
    {
     "name": "stderr",
     "output_type": "stream",
     "text": [
      "INFO: Running \u001b[32mmapping_0\u001b[0m: \n"
     ]
    }
   ],
   "source": [
    "[mapping]"
   ]
  },
  {
   "cell_type": "markdown",
   "metadata": {},
   "source": [
    "## Short and long descriptions of steps"
   ]
  },
  {
   "cell_type": "markdown",
   "metadata": {},
   "source": [
    "You can give each step a short description by adding a short description in parenthesis after step number."
   ]
  },
  {
   "cell_type": "code",
   "execution_count": 5,
   "metadata": {
    "collapsed": false
   },
   "outputs": [
    {
     "name": "stderr",
     "output_type": "stream",
     "text": [
      "INFO: Running \u001b[32mdefault_10 (initialize)\u001b[0m: \n",
      "INFO: Running \u001b[32mdefault_20 (mapping reads)\u001b[0m: \n"
     ]
    }
   ],
   "source": [
    "[20 (mapping reads)]\n",
    "[10 (initialize)]"
   ]
  },
  {
   "cell_type": "markdown",
   "metadata": {},
   "source": [
    "The first comment block of each step is considered as description of the step and will be displayed when the step is executed."
   ]
  },
  {
   "cell_type": "code",
   "execution_count": 6,
   "metadata": {
    "collapsed": false
   },
   "outputs": [
    {
     "name": "stderr",
     "output_type": "stream",
     "text": [
      "INFO: Running \u001b[32mdefault_10 (initialize)\u001b[0m: Validate input files and check available tools\n",
      "INFO: Running \u001b[32mdefault_20 (mapping reads)\u001b[0m: Map reads using specified alignment tool\n"
     ]
    }
   ],
   "source": [
    "[10 (initialize)]\n",
    "# Validate input files and check available\n",
    "# tools\n",
    "\n",
    "# this step is actually empty\n",
    "\n",
    "[20 (mapping reads)]\n",
    "# Map reads using specified alignment tool"
   ]
  },
  {
   "cell_type": "markdown",
   "metadata": {},
   "source": [
    "## Multiple workflows"
   ]
  },
  {
   "cell_type": "markdown",
   "metadata": {},
   "source": [
    "A SoS script can define multiple workflows. For example, the following sections of SoS script defines two workflows named ``mouse`` and ``human``. "
   ]
  },
  {
   "cell_type": "code",
   "execution_count": 7,
   "metadata": {
    "collapsed": false
   },
   "outputs": [
    {
     "name": "stderr",
     "output_type": "stream",
     "text": [
      "INFO: Running \u001b[32mmouse_10\u001b[0m: \n",
      "INFO: Running \u001b[32mmouse_20\u001b[0m: \n",
      "INFO: Running \u001b[32mmouse_30\u001b[0m: \n"
     ]
    }
   ],
   "source": [
    "%run mouse\n",
    "[mouse_10]\n",
    "[mouse_20]\n",
    "[mouse_30]\n",
    "[human_10]\n",
    "[human_20]\n",
    "[human_30]"
   ]
  },
  {
   "cell_type": "markdown",
   "metadata": {},
   "source": [
    "In this case, a command line option is needed to specify workflow name. This can be done by magic `%run` in Jupyter notebook, or a positional argument from the command line, e.g.\n",
    "\n",
    "```\n",
    "    % sos run myscript mouse --input input1.fasta\n",
    "```"
   ]
  },
  {
   "cell_type": "markdown",
   "metadata": {},
   "source": [
    "If you would like to define a ``default`` and a named workflow, you can define them as"
   ]
  },
  {
   "cell_type": "code",
   "execution_count": 8,
   "metadata": {
    "collapsed": false
   },
   "outputs": [
    {
     "name": "stderr",
     "output_type": "stream",
     "text": [
      "INFO: Running \u001b[32mdefault_10\u001b[0m: \n",
      "INFO: Running \u001b[32mdefault_20\u001b[0m: \n",
      "INFO: Running \u001b[32mdefault_30\u001b[0m: \n"
     ]
    }
   ],
   "source": [
    "[10]\n",
    "[20]\n",
    "[30]\n",
    "[test_10]\n",
    "[test_20]\n",
    "[test_30]"
   ]
  },
  {
   "cell_type": "markdown",
   "metadata": {},
   "source": [
    "The `default` workflow will be executed by default using command\n",
    "\n",
    "```bash\n",
    "    % sos run myscript\n",
    "```\n",
    "\n",
    "The `test` workflow will be executed if its name is specified from the command line\n",
    "\n",
    "```bash\n",
    "    % sos run myscript test\n",
    "```"
   ]
  },
  {
   "cell_type": "markdown",
   "metadata": {},
   "source": [
    "## Shared workflow steps"
   ]
  },
  {
   "cell_type": "markdown",
   "metadata": {},
   "source": [
    "The most common motivation of defining multiple workflows in a single SoS script is that they share certain processing steps. If this is the case, you can define sections such as"
   ]
  },
  {
   "cell_type": "code",
   "execution_count": 9,
   "metadata": {
    "collapsed": false
   },
   "outputs": [
    {
     "name": "stderr",
     "output_type": "stream",
     "text": [
      "INFO: Running \u001b[32mmouse_10\u001b[0m: \n",
      "INFO: Running \u001b[32mmouse_20\u001b[0m: \n",
      "INFO: Running \u001b[32mmouse_30\u001b[0m: \n"
     ]
    }
   ],
   "source": [
    "%run mouse\n",
    "[mouse_10,human_10]\n",
    "[mouse_20]\n",
    "[human_20]\n",
    "[mouse_30,human_30]"
   ]
  },
  {
   "cell_type": "markdown",
   "metadata": {},
   "source": [
    "or"
   ]
  },
  {
   "cell_type": "code",
   "execution_count": 10,
   "metadata": {
    "collapsed": false
   },
   "outputs": [
    {
     "name": "stderr",
     "output_type": "stream",
     "text": [
      "INFO: Running \u001b[32mmouse_10\u001b[0m: \n",
      "INFO: Running \u001b[32mmouse_20\u001b[0m: \n",
      "INFO: Running \u001b[32mmouse_30\u001b[0m: \n"
     ]
    }
   ],
   "source": [
    "%run mouse\n",
    "[*_10]\n",
    "[mouse_20]\n",
    "[human_20]\n",
    "[*_30]"
   ]
  },
  {
   "cell_type": "code",
   "execution_count": 11,
   "metadata": {
    "collapsed": false
   },
   "outputs": [
    {
     "name": "stderr",
     "output_type": "stream",
     "text": [
      "INFO: Running \u001b[32mfly_10\u001b[0m: \n",
      "INFO: Running \u001b[32mfly_20\u001b[0m: \n",
      "INFO: Running \u001b[32mfly_30\u001b[0m: \n",
      "INFO: Running \u001b[32mfly_40\u001b[0m: \n",
      "INFO: Running \u001b[32mfly_50\u001b[0m: \n"
     ]
    }
   ],
   "source": [
    "%run fly\n",
    "[*_10]\n",
    "[mouse_20,human_20]\n",
    "[fly_20]\n",
    "[*_30,fly_50]\n",
    "[fly_40]\n"
   ]
  },
  {
   "cell_type": "markdown",
   "metadata": {},
   "source": [
    "In the last case, step defined by `[*_30,fly_40]` will be expanded to ``mouse_30``, ``human_30``, ``fly_30``, and ``fly_50`` and will be executed twice for the `fly` workflow. Note that workflow steps can use variable `step_name` to act (slightly) differently for different workflows. For example,"
   ]
  },
  {
   "cell_type": "code",
   "execution_count": 12,
   "metadata": {
    "collapsed": false
   },
   "outputs": [
    {
     "name": "stderr",
     "output_type": "stream",
     "text": [
      "INFO: Running \u001b[32mmouse_20\u001b[0m: \n"
     ]
    },
    {
     "name": "stdout",
     "output_type": "stream",
     "text": [
      "/path/to/mouse/reference\n"
     ]
    }
   ],
   "source": [
    "%run mouse\n",
    "[mouse_20,human_20]\n",
    "reference = \"/path/to/mouse/reference\" if step_name.startswith('mouse') else \"/path/to/human/reference\"\n",
    "\n",
    "print(reference)"
   ]
  },
  {
   "cell_type": "markdown",
   "metadata": {},
   "source": [
    "Here the variable `step_name` is `mouse_20` or `human_20` depending on the workflow being executed, and expression `mouse_reference if step_name.startswith('mouse') else human_reference` returns `mouse_reference` if the workflow `mouse` is executed, and `human_reference` otherwise."
   ]
  },
  {
   "cell_type": "markdown",
   "metadata": {},
   "source": [
    "## Subworkflow"
   ]
  },
  {
   "cell_type": "markdown",
   "metadata": {},
   "source": [
    "Although workflows are defined separately with all their steps, they do not have to be executed in their entirety. A `subworkflow` refers to a workflow that is defined from one or more steps of an existing workflows. It is specified using syntax `workflow[_steps]` where step can be `n` (step `n`), `:n` (up to `n`), `n:m` (step `n` to `m`) and `m:` (from `m`). For example"
   ]
  },
  {
   "cell_type": "markdown",
   "metadata": {},
   "source": [
    "  ```\n",
    "  A              # complete workflow A\n",
    "  A:5-10         # step 5 to 10 of A\n",
    "  A:50-          # step 50 up\n",
    "  A:-10          # up to step 10 of A\n",
    "  A:10           # step 10 of workflow A can be considered a subworkflow\n",
    "  ```"
   ]
  },
  {
   "cell_type": "markdown",
   "metadata": {},
   "source": [
    "## Combined workflow\n",
    "\n",
    "You can also combine subworkflows to execute multiple workflows one after another. For example,"
   ]
  },
  {
   "cell_type": "markdown",
   "metadata": {},
   "source": [
    "```python\n",
    "A + B          # workflow A, followed by B\n",
    "A_0 + B        # step 0 of A, followed by B\n",
    "A:-50 + B + C  # up to step 50 of workflow A, followed by B, and C\n",
    "```"
   ]
  },
  {
   "cell_type": "markdown",
   "metadata": {},
   "source": [
    "This syntax can be used from the command line (option `workflow`, e.g. `sos-runner myscript.sos align+call`) or used to execute [nested workflows](#nested-workflow) inside the SoS script. \n",
    "\n",
    "It is worth noting that combined workflow might work differently from when they are executed individually (e.g. default input of `B` is changed from empty to output of `A_0`), and it is up to the user to resolve conflicts between them."
   ]
  },
  {
   "cell_type": "markdown",
   "metadata": {},
   "source": [
    "## Nested workflow\n",
    "\n",
    "SoS also supports nested workflow in which a complete workflow is treated as part of a step process.\n",
    "The workflow is execute by SoS action `sos_run`, e.g.\n",
    "\n",
    "```\n",
    "sos_run('A')                       # execute workflow A\n",
    "sos_run('A + B')                   # execute workflow B after A\n",
    "sos_run('D:-10 + C')               # execute up to step 10 of D and workflow C\n",
    "sos_run('${aligner} + ${caller}')  # execute user-specified aligner and caller workflows\n",
    "```"
   ]
  },
  {
   "cell_type": "markdown",
   "metadata": {},
   "source": [
    "In its simplest form, nested workflow allows you to define another workflow from existing ones. For example,"
   ]
  },
  {
   "cell_type": "code",
   "execution_count": 13,
   "metadata": {
    "collapsed": false
   },
   "outputs": [
    {
     "name": "stderr",
     "output_type": "stream",
     "text": [
      "INFO: Running \u001b[32mdefault_0\u001b[0m: \n"
     ]
    }
   ],
   "source": [
    "[align_10]\n",
    "[align_20]\n",
    "[call_10]\n",
    "[call_20]\n",
    "[default]\n",
    "sos_run('align+call')"
   ]
  },
  {
   "cell_type": "markdown",
   "metadata": {},
   "source": [
    "defines a nested workflow that combines workflows `align` and `call` so that the workflow will by default execute two workflows, but can also execute one of them as separate workflows `align` and `call`.\n",
    "\n",
    "Nested workflow also allows you to define multiple mini-workflows and connect them freely. For example\n",
    "\n",
    "```python\n",
    "[a_1]\n",
    "[a_2]\n",
    "[b]\n",
    "[c]\n",
    "[d_1]\n",
    "sos_run('a+b')\n",
    "[d_2]\n",
    "sos_run('a+c')\n",
    "```\n",
    "\n",
    "defines workflows `d` that will execute steps `d_1`, `a_1`, `a_2`, `b_0`, `d_2`,  `a_1`, `a_2`, and `c_0`. \n",
    "\n",
    "Nested workflows, like other SoS actions, can be executed repeatedly, for example,"
   ]
  },
  {
   "cell_type": "markdown",
   "metadata": {},
   "source": [
    "```\n",
    "[b_1]\n",
    "[b_2]\n",
    "[b_3]\n",
    "\n",
    "[a]\n",
    "parameters = range(20)\n",
    "input: 'some.txt', for_each='parameters'\n",
    "output: '${input}_${_parameters}.res'\n",
    "sos_run('b')\n",
    "```\n",
    "\n",
    "would execute the complete workflow `b` 20 times each with a different parameter. Similarly you can let the nested workflow process groups of input files.\n",
    "\n",
    "Nested workflows can also be used to compose workflows from user-provided options through command line arguments, configuration files, and even results from previous steps. For example, the following example\n",
    "\n",
    "```\n",
    "# aligner steps to use to align the reads \n",
    "parameter: aligner = CONFIG.get('aligner', 'bwa')\n",
    "\n",
    "[bwa_1]\n",
    "[bwa_2]\n",
    "[novaalign_1]\n",
    "[novaalign_2]\n",
    "\n",
    "[align]\n",
    "sos_run(aligner)\n",
    "```\n",
    "\n",
    "defines workflows `bwa` and `novaalign` to align raw reads. The `align` workflow is a master workflow that executes `bwa` or `novaalign` determined by option `aligner` defined in a configuration file (command line option `-c`) and command line option `--aligner`."
   ]
  },
  {
   "cell_type": "code",
   "execution_count": null,
   "metadata": {
    "collapsed": true
   },
   "outputs": [],
   "source": []
  }
 ],
 "metadata": {
  "anaconda-cloud": {},
  "kernelspec": {
   "display_name": "SoS",
   "language": "sos",
   "name": "sos"
  },
  "language_info": {
   "codemirror_mode": "sos",
   "file_extension": ".sos",
   "mimetype": "text/x-sos",
   "name": "sos",
   "nbconvert_exporter": "sos.kernel.SoS_Exporter",
   "pygments_lexer": "sos"
  }
 },
 "nbformat": 4,
 "nbformat_minor": 1
}
