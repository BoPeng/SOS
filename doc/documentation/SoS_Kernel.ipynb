{
 "cells": [
  {
   "cell_type": "markdown",
   "metadata": {},
   "source": [
    "# Jupyter Kernel for SoS"
   ]
  },
  {
   "cell_type": "markdown",
   "metadata": {},
   "source": [
    "[Jupyter](http://jupyter.org/) notebook is a web application that allows you to create documents with live code and results. The underlying interpreters of the cells are called **kernel**. For example, you can use a `python` kernel to interpret python expressions, or a `ir` kernel to interpret `R` commands. You can use sos within a `python` kernel by loading the [`sos_magic` ipython extension](SoS_magic.html), or use a `sos` kernel to work in a complete SoS environment.\n",
    "\n",
    "In addition to the ability to execute SoS workflows within Jupyter, the SoS kernel allows you to start subkernels (e.g. [`irkernel`](https://github.com/IRkernel/IRkernel) for [the R langauage](https://www.r-project.org/)) and switch between the subkernels in the same notebook. This allows for truly integrated data analysis using different langauages."
   ]
  },
  {
   "cell_type": "markdown",
   "metadata": {},
   "source": [
    "## Installing the SoS kernel"
   ]
  },
  {
   "cell_type": "markdown",
   "metadata": {},
   "source": [
    "The SoS installation process will install a SoS kernel by default. To verify if you have the sos kernel installed, use command `jupyter kernelspec list` from command line (here we use the `!` magic to run commands from Jupyter notebook):"
   ]
  },
  {
   "cell_type": "code",
   "execution_count": 1,
   "metadata": {
    "collapsed": false
   },
   "outputs": [
    {
     "name": "stdout",
     "output_type": "stream",
     "text": [
      "Available kernels:\n",
      "  python3    /Users/bpeng1/anaconda/lib/python3.5/site-packages/ipykernel/resources\n",
      "  sos        /Users/bpeng1/anaconda/share/jupyter/kernels/sos\n"
     ]
    }
   ],
   "source": [
    "!jupyter kernelspec list"
   ]
  },
  {
   "cell_type": "markdown",
   "metadata": {},
   "source": [
    "and check if you have `sos` listed as one of the kernels. If not, try to re-install SoS using `pip3 install sos --upgrade` or clone SoS locally and run `python setup.py install`. If the kernel is installed, fire Jupyter using command\n",
    "```\n",
    "$ jupyter notebook\n",
    "```\n",
    "from the `New` button to the top right corner, select `SoS`, and create a SoS notebook.\n",
    "\n",
    "You can also start a qtconsole with the SoS kernel using command\n",
    "```\n",
    "$ jupyter qtconsole --kernel sos\n",
    "```\n",
    "or even [use the SoS kernel in Spyder](Using_SoS_with_Spyder.html). Most of the features described in this section also applies to `qtconsole` and `spyder`.\n",
    "\n",
    "Note that SoS uses [imagemagick](http://www.imagemagick.org/script/index.php) and python package [`wand`](http://docs.wand-py.org/en/0.4.2/) to preview output files so it is recommended that you install these packages."
   ]
  },
  {
   "cell_type": "markdown",
   "metadata": {},
   "source": [
    "## Acceptable statements in notebooks"
   ]
  },
  {
   "cell_type": "markdown",
   "metadata": {},
   "source": [
    "You can enter any SoS expression, statements, and workflows in a Jupyter notebook. More specifically, you can enter\n",
    "\n",
    "* any Python expression and statements. For example, you can write pieces of SoS code and evaluate them"
   ]
  },
  {
   "cell_type": "code",
   "execution_count": 2,
   "metadata": {
    "collapsed": true
   },
   "outputs": [],
   "source": [
    "res_path = '/path/to/resource'\n",
    "ref_genome = \"${res_path}/hg19\""
   ]
  },
  {
   "cell_type": "markdown",
   "metadata": {},
   "source": [
    "* any SoS actions in function or script format. For example, you can execute a shell script using"
   ]
  },
  {
   "cell_type": "code",
   "execution_count": 3,
   "metadata": {
    "collapsed": false
   },
   "outputs": [
    {
     "name": "stdout",
     "output_type": "stream",
     "text": [
      "Reference genome is located at /path/to/resource/hg19\n"
     ]
    }
   ],
   "source": [
    "run:\n",
    "    echo Reference genome is located at ${ref_genome}"
   ]
  },
  {
   "cell_type": "markdown",
   "metadata": {},
   "source": [
    "* markdown cells to document your workflow. These cells are not evaluated by SoS so string interpolations are not available to these cells."
   ]
  },
  {
   "cell_type": "markdown",
   "metadata": {},
   "source": [
    "* SoS workflows with one or more steps."
   ]
  },
  {
   "cell_type": "code",
   "execution_count": 4,
   "metadata": {
    "collapsed": false
   },
   "outputs": [
    {
     "name": "stdout",
     "output_type": "stream",
     "text": [
      "I am in default_10\n",
      "I am in default_20\n",
      "I am in default_30\n"
     ]
    }
   ],
   "source": [
    "[10]\n",
    "print(\"I am in ${step_name}\")\n",
    "[20]\n",
    "print(\"I am in ${step_name}\")\n",
    "[30]\n",
    "print(\"I am in ${step_name}\")"
   ]
  },
  {
   "cell_type": "markdown",
   "metadata": {},
   "source": [
    "Technically speaking, SoS prefixes input with a default header if no header is present, and execute all input as SoS workflows. The major differences between running SoS scripts in batch mode and Jupyter notebook is the scope of variables. Whereas in Jupyter notebook all scripts are executed in the same namespace (SoS dictionary) with shared variables, SoS batch mode executes each step in separate processes with their own namespaces, with additional rules such as readonly global variables."
   ]
  },
  {
   "cell_type": "markdown",
   "metadata": {},
   "source": [
    "## Use of subkernels"
   ]
  },
  {
   "cell_type": "markdown",
   "metadata": {},
   "source": [
    "One of the most important features of the SoS kernel is its support for multiple Jupyter subkernel. Using a `%use kernel` magic, you can start (and/or switches to) an alternative jupyter kernel and use a completely different script in the same notebook.\n",
    "\n",
    "A `kernel` can be any [Jupyter supported kernels](https://github.com/ipython/ipython/wiki/IPython-kernels-for-other-languages) that have been installed locally. In particular, you can use `ir` for R kernel, `python3` for python3, `iperl` for perl, `bash` for bash. Please refer to [IRKernel](https://github.com/IRkernel/IRkernel) for instructions on how to install the `ir` kernel for `R`.\n",
    "\n",
    "For example,"
   ]
  },
  {
   "cell_type": "code",
   "execution_count": 5,
   "metadata": {
    "collapsed": false
   },
   "outputs": [
    {
     "name": "stderr",
     "output_type": "stream",
     "text": [
      "Failed to start kernel \"R\". Use \"jupyter kernelspec list\" to check if it is installed: Failed to load language R: The 'feather' distribution was not found and is required by the application\n"
     ]
    }
   ],
   "source": [
    "%use R"
   ]
  },
  {
   "cell_type": "markdown",
   "metadata": {},
   "source": [
    "starts and switches to a `ir` kernel so that you can enter any R commands as if you are working on a notebook with a `ir` kernel"
   ]
  },
  {
   "cell_type": "code",
   "execution_count": 6,
   "metadata": {
    "collapsed": false
   },
   "outputs": [
    {
     "name": "stderr",
     "output_type": "stream",
     "text": [
      "Failed to process statement require(graphics)\\npairs(mtcars...ars data\"): name 'require' is not defined"
     ]
    }
   ],
   "source": [
    "require(graphics)\n",
    "pairs(mtcars, main = \"mtcars data\")"
   ]
  },
  {
   "cell_type": "markdown",
   "metadata": {},
   "source": [
    "After you are done with the `ir` kernel, you can switch back to the SoS kernel using magic"
   ]
  },
  {
   "cell_type": "code",
   "execution_count": null,
   "metadata": {
    "collapsed": true
   },
   "outputs": [],
   "source": [
    "%use sos"
   ]
  },
  {
   "cell_type": "markdown",
   "metadata": {},
   "source": [
    "SoS will interpolate cell content before it is passed to the subkernel. For example, if you save a dataframe to a file with name in `filename`,"
   ]
  },
  {
   "cell_type": "code",
   "execution_count": null,
   "metadata": {
    "collapsed": false
   },
   "outputs": [],
   "source": [
    "import pandas as pd\n",
    "import numpy as np\n",
    "data = pd.DataFrame(np.random.randn(6,4),columns=list('ABCD'))\n",
    "filename = 'mydata.csv'\n",
    "data.to_csv(filename, index=False)\n",
    "data"
   ]
  },
  {
   "cell_type": "markdown",
   "metadata": {},
   "source": [
    "you can pass the filename to kernel `ir` using `${filename}` as follows"
   ]
  },
  {
   "cell_type": "code",
   "execution_count": null,
   "metadata": {
    "collapsed": false
   },
   "outputs": [],
   "source": [
    "%use R\n",
    "d <- read.csv(${filename!r})\n",
    "d"
   ]
  },
  {
   "cell_type": "markdown",
   "metadata": {},
   "source": [
    "Although string interpolation allows you to **compose** scripts in other languages, it is not a particularly good way to exchange data between SoS and subkernels. Fortunately, the SoS kernel provides a mechanism to pass variables between SoS and some subkernels using SoS magics.\n",
    "\n",
    "For example, magic `%get` can get specified SoS variables from the SoS kernel to the subkernel `ir`."
   ]
  },
  {
   "cell_type": "code",
   "execution_count": null,
   "metadata": {
    "collapsed": false
   },
   "outputs": [],
   "source": [
    "%get data\n",
    "data"
   ]
  },
  {
   "cell_type": "markdown",
   "metadata": {},
   "source": [
    "SoS tries its best to find the best-matching data types between SoS and the subkernel and convert the data in the subkernel's native datatypes (e.g. Python's `DataFrame` to R's `data.frame`), so the variables you get will always be in the subkernel's native data types, not a wrapper of a foreign object (for example objects provided by `rpy2`). "
   ]
  },
  {
   "cell_type": "code",
   "execution_count": null,
   "metadata": {
    "collapsed": false
   },
   "outputs": [],
   "source": [
    "class(data)"
   ]
  },
  {
   "cell_type": "markdown",
   "metadata": {
    "collapsed": true
   },
   "source": [
    "Unfortunately, although any subkernel can be started, SoS currently only support data exchange between `SoS`, `python3`, and `ir` kernels. SoS provides [an interface to add support for other languages](Extending_SoS.html). Please considering adding SoS support for your favoriate kernel with a pull request."
   ]
  },
  {
   "cell_type": "code",
   "execution_count": null,
   "metadata": {
    "collapsed": true
   },
   "outputs": [],
   "source": [
    "# clean up\n",
    "%use sos\n",
    "!rm mydata.csv "
   ]
  },
  {
   "cell_type": "markdown",
   "metadata": {},
   "source": [
    "## SOS Magics"
   ]
  },
  {
   "cell_type": "markdown",
   "metadata": {},
   "source": [
    "In addition to SoS statements, you can use a few SoS magics in Jupyter notebook. **SoS magics have to be specified at the beginning of a cell** although they can be specified after empty lines and comments, and multiple magics can be used in a single cell.\n",
    "\n",
    "SoS supports the following jupyter magics:"
   ]
  },
  {
   "cell_type": "markdown",
   "metadata": {},
   "source": [
    "###  `%use kernel` "
   ]
  },
  {
   "cell_type": "markdown",
   "metadata": {},
   "source": [
    "As shown above, the `%use kernel` magic starts or switch to a subkernel named `kernel`. The kernel can be any locally installed Jupyter kenel, or name of a **language** (e.g. `R` for kernel `ir`). A `language` is usually built upon the corresponding subkernel, with added support for data exchange between SoS and the subkernel."
   ]
  },
  {
   "cell_type": "markdown",
   "metadata": {},
   "source": [
    "`%use` magic accepts parameters `--in (-i)` and `--out (-o)`, followed by variables that will be transferred to the subkernel after starting (or switching to) the subkernel, and variables that will be transferred back to SoS before magic `%use sos`.\n",
    "\n",
    "For example,"
   ]
  },
  {
   "cell_type": "code",
   "execution_count": null,
   "metadata": {
    "collapsed": true
   },
   "outputs": [],
   "source": [
    "n = 5"
   ]
  },
  {
   "cell_type": "code",
   "execution_count": null,
   "metadata": {
    "collapsed": false
   },
   "outputs": [],
   "source": [
    "%use R -i n -o ran\n",
    "ran <- rnorm(n)"
   ]
  },
  {
   "cell_type": "code",
   "execution_count": null,
   "metadata": {
    "collapsed": false
   },
   "outputs": [],
   "source": [
    "%use sos\n",
    "ran"
   ]
  },
  {
   "cell_type": "markdown",
   "metadata": {},
   "source": [
    "Data exchange is actually performed by magics `%get` and `%put` so please refer to these magics for details."
   ]
  },
  {
   "cell_type": "markdown",
   "metadata": {},
   "source": [
    "### `%with kernel`"
   ]
  },
  {
   "cell_type": "markdown",
   "metadata": {},
   "source": [
    "  `%with kernel` also starts (or switches to) a subkernel, but kernel specified by `%with kernel` will be reset as soon as the cell is executed. This magic is therefore suitable for a quick errand to another kernel. This magic also accepts options `--in` (or `-i`) and `--out` (or `-o`), so you could use"
   ]
  },
  {
   "cell_type": "code",
   "execution_count": null,
   "metadata": {
    "collapsed": true
   },
   "outputs": [],
   "source": [
    "%with R -i n -o ran\n",
    "ran <- rnorm(n)"
   ]
  },
  {
   "cell_type": "markdown",
   "metadata": {},
   "source": [
    "to get a list of normally distributed numbers using R's `rnorm` function. The current kernel is still `sos`."
   ]
  },
  {
   "cell_type": "code",
   "execution_count": null,
   "metadata": {
    "collapsed": false
   },
   "outputs": [],
   "source": [
    "%use"
   ]
  },
  {
   "cell_type": "code",
   "execution_count": null,
   "metadata": {
    "collapsed": false
   },
   "outputs": [],
   "source": [
    "ran"
   ]
  },
  {
   "cell_type": "markdown",
   "metadata": {},
   "source": [
    "### `%preview [filename1] [filename2] [expr1] [expr2] ...`"
   ]
  },
  {
   "cell_type": "markdown",
   "metadata": {},
   "source": [
    "The `%preview` magic preview the content of specified files or values of specified expressions **after** the execution of the current cell. For example, in a subkernel R, you can do"
   ]
  },
  {
   "cell_type": "code",
   "execution_count": null,
   "metadata": {
    "collapsed": false,
    "scrolled": true
   },
   "outputs": [],
   "source": [
    "%sandbox\n",
    "%use R\n",
    "%preview a.png\n",
    "png(\"${os.getcwd()}/a.png\")\n",
    "plot(seq(1,10))\n",
    "dev.off()"
   ]
  },
  {
   "cell_type": "markdown",
   "metadata": {},
   "source": [
    "to preview `a.png` generated by this step. Note that SoS automatically previews output files of SoS statements specified by the `output:` directive, but `output:` works only in the SoS kernel and `%preview` works for subkernel."
   ]
  },
  {
   "cell_type": "markdown",
   "metadata": {},
   "source": [
    "The `%preview` magic also accept sos variable and expressions. For example,"
   ]
  },
  {
   "cell_type": "code",
   "execution_count": null,
   "metadata": {
    "collapsed": false
   },
   "outputs": [],
   "source": [
    "%preview data\n",
    "%use sos\n",
    "import pandas as pd\n",
    "data = pd.DataFrame({\n",
    "    'one' : pd.Series([1., 2., 3.], index=['a', 'b', 'c']),\n",
    "    'two' : pd.Series([1., 2., 3., 4.], index=['a', 'b', 'c', 'd'])})"
   ]
  },
  {
   "cell_type": "markdown",
   "metadata": {},
   "source": [
    "would display the content of the pandas `DataFrame`. You can specify any Python (sos) expression for this magic but, similar to command line arguments, you will need to quote the expression if it contains spaces. For example,"
   ]
  },
  {
   "cell_type": "code",
   "execution_count": null,
   "metadata": {
    "collapsed": false
   },
   "outputs": [],
   "source": [
    "%preview data['one']"
   ]
  },
  {
   "cell_type": "markdown",
   "metadata": {},
   "source": [
    "It is worth mentioning that you can inspect content of variables in Jupyter using `Shift-Tab` when you move your cursor in or after the variable. The advantage (and disadvantage) of the `%preview` magic compared to that method is that its output will be saved in the notebook. "
   ]
  },
  {
   "cell_type": "markdown",
   "metadata": {},
   "source": [
    "### `%put`"
   ]
  },
  {
   "cell_type": "markdown",
   "metadata": {},
   "source": [
    "Magics `%put` are used to return results from subkernel to SoS kernel when the current kernel is a subkernel started by magic `%use`. Only the `ir` and `python` kernels are supported now. Whereas there is virtually no limit on exchangeable datatypes between `SoS` and `python` kernels, there are no perfect map between Python (SoS) and `R` datatypes so SoS tries to find the best match between data types. More specifically,\n",
    "\n",
    "  \n",
    "  | R  |  length (n) |   Python |\n",
    "  | --- | --- |---|\n",
    "  | `NULL` | |    `None` |\n",
    "  | `logical` |  `1` |  `oolean` |\n",
    "  | `integer` |  `1` |  `integer` |\n",
    "  | `numeric` |  `1` |  `double` |\n",
    "  | `character` |  `1` |  `string` |\n",
    "  | `logical` |  `n > 1` |  `list` |\n",
    "  | `integer` |  `n > 1` |  `list` |\n",
    "  | `numeric` |  `n > 1` |  `list` |\n",
    "  | `character` |  `n > 1` |  `list` |\n",
    "  | `list` without names |  `n > 0` | `list` |\n",
    "  | `list` with names |  `n > 0` |  `dict` |\n",
    "  | `matrix` |  `n > 0` |  `numpy.array` |\n",
    "  | `data.frame` |  `n > 0` |  `DataFrame` |"
   ]
  },
  {
   "cell_type": "markdown",
   "metadata": {},
   "source": [
    "For example"
   ]
  },
  {
   "cell_type": "code",
   "execution_count": null,
   "metadata": {
    "collapsed": true
   },
   "outputs": [],
   "source": [
    "%use R\n",
    "a = c(1)\n",
    "b = c(1, 2, 3)\n",
    "c = list(1, 2, 3)\n",
    "d = list(1, 2, \"3\")\n",
    "e = matrix(c(1,2,3,4), ncol=2)"
   ]
  },
  {
   "cell_type": "code",
   "execution_count": null,
   "metadata": {
    "collapsed": false
   },
   "outputs": [],
   "source": [
    "%put a b c d e\n",
    "%preview a b c d e"
   ]
  },
  {
   "cell_type": "markdown",
   "metadata": {},
   "source": [
    "As you can see, although `a` is technically an array with length 1 in `R`, it is convertered to an integer in SoS. Variables `b` and `c` are converted to the same type (`list`) although they are of different types in `R`. Variable `e` are converted from `R` matrix to `numpy` array. "
   ]
  },
  {
   "cell_type": "markdown",
   "metadata": {},
   "source": [
    "Sometimes a valid variale name in a subkernel is not a valid name in SoS/Python. SoS would automatically convert such names with a warning message. For example,"
   ]
  },
  {
   "cell_type": "code",
   "execution_count": null,
   "metadata": {
    "collapsed": true
   },
   "outputs": [],
   "source": [
    ".a.b = 5"
   ]
  },
  {
   "cell_type": "code",
   "execution_count": null,
   "metadata": {
    "collapsed": false
   },
   "outputs": [],
   "source": [
    "%put .a.b\n",
    "%preview _a_b"
   ]
  },
  {
   "cell_type": "markdown",
   "metadata": {},
   "source": [
    "### `%get` (`ir` and `python` kernels only)"
   ]
  },
  {
   "cell_type": "markdown",
   "metadata": {},
   "source": [
    "Magics `%get` retrieve variables from the SoS to the current subkernel started by magic `%use`. Only the `ir` and `python` kernels are currently supported. SoS tries to use the best matching data type for the conversion. More specifically,\n",
    "\n",
    "  \n",
    "  | Python  |  condition |   R |\n",
    "  | --- | --- |---|\n",
    "  | `None` | |    `NULL` |\n",
    "  | `boolean` |   | `logical` |\n",
    "  | `integer` |  |  `integer` |\n",
    "  | `float` |  |  `numeric` |\n",
    "  | `str` |  | `character` |\n",
    "  | Sequence (`list`, `tuple`, ...) |  homogenous type |  `c()` |\n",
    "  | Sequence (`list`, `tuple`, ...) |  multiple types |  `list` |\n",
    "  | `set` |  |  `list` |\n",
    "  | `dict` |  |  `list` with names |\n",
    "  | `numpy.ndarray` |  | `c()` array |\n",
    "  | `numpy.matrix` |  | `matrix` |\n",
    "  | `pandas.DataFrame` |  |  R `data.frame` |\n",
    "\n",
    "  Python objects in other datatypes are transferred as string `\"Unsupported datatype\"`."
   ]
  },
  {
   "cell_type": "markdown",
   "metadata": {},
   "source": [
    "For example,"
   ]
  },
  {
   "cell_type": "code",
   "execution_count": null,
   "metadata": {
    "collapsed": true
   },
   "outputs": [],
   "source": [
    "%use sos\n",
    "a = [1, 2, 3]\n",
    "b = [1, 2, \"3\"]\n",
    "c = True"
   ]
  },
  {
   "cell_type": "code",
   "execution_count": null,
   "metadata": {
    "collapsed": false
   },
   "outputs": [],
   "source": [
    "%use R\n",
    "%get a b c\n",
    "a"
   ]
  },
  {
   "cell_type": "code",
   "execution_count": null,
   "metadata": {
    "collapsed": false
   },
   "outputs": [],
   "source": [
    "b"
   ]
  },
  {
   "cell_type": "code",
   "execution_count": null,
   "metadata": {
    "collapsed": false
   },
   "outputs": [],
   "source": [
    "c"
   ]
  },
  {
   "cell_type": "markdown",
   "metadata": {},
   "source": [
    "The `%preview` magic cannot be used to preview variables in the subkernel so we have to list them one by one. As you can see, a Python list can be converted to `R` array or list depending on its content. "
   ]
  },
  {
   "cell_type": "markdown",
   "metadata": {},
   "source": [
    "Similar to the `%put` magic, SoS automatically translate variables with invalid Python names. For example"
   ]
  },
  {
   "cell_type": "code",
   "execution_count": null,
   "metadata": {
    "collapsed": true
   },
   "outputs": [],
   "source": [
    "%use sos\n",
    "_var = 'Hi, Bob'"
   ]
  },
  {
   "cell_type": "code",
   "execution_count": null,
   "metadata": {
    "collapsed": false
   },
   "outputs": [],
   "source": [
    "\n",
    "%use R\n",
    "%get _var\n",
    ".var"
   ]
  },
  {
   "cell_type": "code",
   "execution_count": null,
   "metadata": {
    "collapsed": true
   },
   "outputs": [],
   "source": [
    "%use sos"
   ]
  },
  {
   "cell_type": "markdown",
   "metadata": {},
   "source": [
    "### `%paste [command-options] [workflow-options]`"
   ]
  },
  {
   "cell_type": "markdown",
   "metadata": {},
   "source": [
    "This magic pastes content of clipboard to the cell and execute the cell. It is similar but sometimes more convenient than pasting the content using system shortcuts such as `Cmd-V` (mac). The additional options allow you to execute the pasted workflow with these options (see magic `%run` for details)."
   ]
  },
  {
   "cell_type": "markdown",
   "metadata": {},
   "source": [
    "### `%run [command-options] [workflow-options]`"
   ]
  },
  {
   "cell_type": "markdown",
   "metadata": {},
   "source": [
    "The `%sos` magic allows you to specify SoS options such as `-v` (verbosity), `-j` (max number of jobs), and workflow options as defined by `parameter:` keyword. A complete list of arguments can be shown using the `-h` option."
   ]
  },
  {
   "cell_type": "code",
   "execution_count": null,
   "metadata": {
    "collapsed": false
   },
   "outputs": [],
   "source": [
    "%use sos\n",
    "%run -h"
   ]
  },
  {
   "cell_type": "markdown",
   "metadata": {},
   "source": [
    "### `%set [command-options] [workflow-options]`"
   ]
  },
  {
   "cell_type": "markdown",
   "metadata": {},
   "source": [
    "The `%set` magic sets a persistent sos options so you do not have to enter them each time after `%run` or `%paste`. For example, if you set `%set -v3`, you can execute all cells in the notebook at verbosity level 3 (`DEBUG`).\n",
    "\n",
    "Note that this magic only accepts keyword arguments (with leading `-` or `--`) so you cannot use it to specify a default workflow to execute."
   ]
  },
  {
   "cell_type": "code",
   "execution_count": null,
   "metadata": {
    "collapsed": false
   },
   "outputs": [],
   "source": [
    "%set -v2\n",
    "[10]\n",
    "[20]"
   ]
  },
  {
   "cell_type": "code",
   "execution_count": null,
   "metadata": {
    "collapsed": false
   },
   "outputs": [],
   "source": [
    "%set -v1\n",
    "[10]\n",
    "[20]"
   ]
  },
  {
   "cell_type": "markdown",
   "metadata": {},
   "source": [
    "### `%matplotlib [GUI]`\n",
    "\n",
    "Similar to ipython's `matplotlib` magic, the `%matplotlib inline` magic allows the display of matplotlib figures inline in Jupyter notebook or qtconsole."
   ]
  },
  {
   "cell_type": "code",
   "execution_count": null,
   "metadata": {
    "collapsed": true
   },
   "outputs": [],
   "source": [
    "%matplotlib inline"
   ]
  },
  {
   "cell_type": "code",
   "execution_count": null,
   "metadata": {
    "collapsed": false
   },
   "outputs": [],
   "source": [
    "import matplotlib.pyplot as plt\n",
    "import numpy as np\n",
    "x = np.linspace(0, 10)\n",
    "plt.plot(x, np.sin(x), '--', linewidth=2)\n",
    "plt.show()"
   ]
  },
  {
   "cell_type": "markdown",
   "metadata": {},
   "source": [
    "### `%restart kernel`\n",
    "\n",
    "`%restart` specified kernel without affecting the current working kernel. "
   ]
  },
  {
   "cell_type": "markdown",
   "metadata": {},
   "source": [
    "### `%dict [--reset] [--keys] [--all] var1 var2` \n",
    "\n",
    "The `%dict` magic lists or rests the content of SoS dict, using syntax\n",
    "\n",
    "```\n",
    "%dict [-a|-all] [-k|--keys] [-r|--reset] [var1] [var2] ...\n",
    "```\n",
    "\n",
    "where\n",
    "\n",
    "* `var1`, `var2` etc are name of variables. All variables will be displayed if no variable is specified.\n",
    "* `-a|-all`: list all dictionary keys, including SoS functions and variables.\n",
    "* `-k|--keys`: list only keys, not their values\n",
    "* `-r|--reset`: reset the dictionary to its original content (with only SoS internal values)"
   ]
  },
  {
   "cell_type": "markdown",
   "metadata": {
    "collapsed": true
   },
   "source": [
    "For example, you can see all keys in the SoS dictionary using"
   ]
  },
  {
   "cell_type": "code",
   "execution_count": null,
   "metadata": {
    "collapsed": false
   },
   "outputs": [],
   "source": [
    "%dict --keys"
   ]
  },
  {
   "cell_type": "markdown",
   "metadata": {},
   "source": [
    "and reset the dictionary with the `--reset` option"
   ]
  },
  {
   "cell_type": "code",
   "execution_count": null,
   "metadata": {
    "collapsed": false
   },
   "outputs": [],
   "source": [
    "%dict --reset\n",
    "%dict --keys"
   ]
  },
  {
   "cell_type": "markdown",
   "metadata": {},
   "source": [
    "### %sandbox [--keep-dict] [--expect-error]"
   ]
  },
  {
   "cell_type": "markdown",
   "metadata": {},
   "source": [
    "The `%sandbox` magic executes the current cell in the temporary directory with a separate dictionary so that it would change SoS dictionary and files in the current directory. \n",
    "\n",
    "This magic accepts two parameters:\n",
    "1. If `-k` or `--keep-dict` is specified, the cell would use the existing SoS dictionary instead of creating a new one.\n",
    "2. If `-e` or `--expect-error` is specified, the cell expects an error and would return `ok` only if an `error` occurs. In practice, this option would prevent Jupyter from stopping at a cell that expects an error when you execute the whole notebook with \"execute all\"."
   ]
  },
  {
   "cell_type": "code",
   "execution_count": 1,
   "metadata": {
    "collapsed": false
   },
   "outputs": [
    {
     "name": "stdout",
     "output_type": "stream",
     "text": [
      "Auxiliary_Steps.ipynb\n"
     ]
    }
   ],
   "source": [
    "!ls Auxil*"
   ]
  },
  {
   "cell_type": "code",
   "execution_count": 2,
   "metadata": {
    "collapsed": false
   },
   "outputs": [
    {
     "name": "stderr",
     "output_type": "stream",
     "text": [
      "ls: Auxil*: No such file or directory\n"
     ]
    }
   ],
   "source": [
    "%sandbox\n",
    "!ls Auxil*"
   ]
  },
  {
   "cell_type": "code",
   "execution_count": 3,
   "metadata": {
    "collapsed": false
   },
   "outputs": [
    {
     "data": {
      "text/plain": [
       "set()"
      ]
     },
     "execution_count": 3,
     "metadata": {},
     "output_type": "execute_result"
    }
   ],
   "source": [
    "%sandbox\n",
    "%dict --keys"
   ]
  },
  {
   "cell_type": "markdown",
   "metadata": {},
   "source": [
    "Note that the working directory of subkernels is not affected by the `%sandbox` magic."
   ]
  },
  {
   "cell_type": "markdown",
   "metadata": {},
   "source": [
    "### `%cd dir`\n",
    "\n",
    "Change the current working directory of the SoS kernel to `dir`. The working directory of started subkernels is not affected."
   ]
  },
  {
   "cell_type": "markdown",
   "metadata": {},
   "source": [
    "### `!any-shell-command`\n",
    "\n",
    "If any other command is entered after `!`, sos will treat the rest of the line as a shell command and execute it. Only single-line commands are supported. String interpolation is supported. Note that `!cd` does not change the current working directory because the command is executed in a separate process. Use magic `%cd` for that purpose."
   ]
  },
  {
   "cell_type": "markdown",
   "metadata": {},
   "source": [
    "The command line would accept string interpolation so you can for example do"
   ]
  },
  {
   "cell_type": "code",
   "execution_count": null,
   "metadata": {
    "collapsed": false
   },
   "outputs": [],
   "source": [
    "import tempfile\n",
    "filename = tempfile.mkstemp()[1]\n",
    "with open(filename, 'w') as out:\n",
    "  out.write('something\\n')    "
   ]
  },
  {
   "cell_type": "code",
   "execution_count": null,
   "metadata": {
    "collapsed": false
   },
   "outputs": [],
   "source": [
    "!cat ${filename}"
   ]
  },
  {
   "cell_type": "code",
   "execution_count": null,
   "metadata": {
    "collapsed": false
   },
   "outputs": [],
   "source": [
    "# clean up\n",
    "!rm ${filename}"
   ]
  },
  {
   "cell_type": "markdown",
   "metadata": {},
   "source": [
    "## Code completion and variable inspection"
   ]
  },
  {
   "cell_type": "markdown",
   "metadata": {},
   "source": [
    "Code completion are very useful for you to work with a SoS environment. For example, you can enter `<tab>` in\n",
    "```\n",
    "%<tab>\n",
    "```\n",
    "to get a list of available magics, in\n",
    "```\n",
    "%get <tab>\n",
    "```\n",
    "to get a list of available variables, in\n",
    "```\n",
    "%get dat<tab>\n",
    "```\n",
    "to get a list of all variables starting with name `dat`, in\n",
    "```\n",
    "%cd ~/<tab>\n",
    "```\n",
    "to get a list of all files under the home directory, and in\n",
    "```\n",
    "prin<tab>\n",
    "```\n",
    "to complete the function call to `print` if `prin` matches only `print` in the SoS namespace."
   ]
  },
  {
   "cell_type": "markdown",
   "metadata": {},
   "source": [
    "Variable inspection is an often-forgotten feature that can be really useful when you work with the SoS kernel. Basically, if you land your cursor on any sos variable or keyword, enter `<Shift-Tab>` to get some information about the variable or keyword. It is often more convenient to use than the `%preview` magic especially if you do not want to keep the output in the notebook. "
   ]
  },
  {
   "cell_type": "markdown",
   "metadata": {},
   "source": [
    "## Convert between `.ipynb` and `.sos` files\n",
    "\n",
    "You can save the notebook to a SoS script using `File` -> `Download As` -> `SoS`, or using command\n",
    "\n",
    "```\n",
    "$ sos convert myscript.ipynb myscript.sos\n",
    "```\n",
    "\n",
    "The conversion process will strip all results (which can be useful if you would like to version control your notebook without results) but keep cell information and SoS magics. However, **SoS files converted from Jupyter notebook cannot be executed by the `sos` command if they contain SoS magics such as `%use R`** because of non-interactive execution of SoS steps and more rigorous structure required for SoS scripts. You will generally need to modify the resulting script in order to execute it in batch mode."
   ]
  },
  {
   "cell_type": "markdown",
   "metadata": {},
   "source": [
    "You can convert an existing SoS script to the `.ipynb` format using command\n",
    "```\n",
    "$ sos convert myscript.sos myscript.ipynb\n",
    "```\n",
    "\n",
    "and open the resulting notebook from the web interface.\n",
    "\n",
    "The converter uses lines that starts with `%cell` to split a SoS script into cells of Jupyter notebook. If you have a long script and would like to split it into several cells, you can manually insert `%cell` lines to a `.sos` script before conversion (which would be ignored in batch mode), or split the cells in Jupyter by selecting `Edit -> Split Cell`, or using a keyboard shortcut (`Cmd-Shift-\"-\"` under Mac).\n"
   ]
  }
 ],
 "metadata": {
  "anaconda-cloud": {},
  "kernelspec": {
   "display_name": "SoS",
   "language": "sos",
   "name": "sos"
  },
  "language_info": {
   "codemirror_mode": "sos",
   "file_extension": ".sos",
   "mimetype": "text/x-sos",
   "name": "sos",
   "nbconvert_exporter": "sos.kernel.SoS_Exporter",
   "pygments_lexer": "sos"
  }
 },
 "nbformat": 4,
 "nbformat_minor": 1
}
