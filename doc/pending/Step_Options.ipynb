{
 "cells": [
  {
   "cell_type": "markdown",
   "metadata": {},
   "source": [
    "# Step Options"
   ]
  },
  {
   "cell_type": "markdown",
   "metadata": {},
   "source": [
    "## Step options\n",
    "\n",
    "**Step options** are specified after step name that assists the specification of workflows. SoS provides the following options"
   ]
  },
  {
   "cell_type": "markdown",
   "metadata": {},
   "source": [
    "### Option `skip`\n",
    "\n",
    "Option `skip` takes two formats, the first format has no value\n",
    "\n",
    "```\n",
    "[10: skip]\n",
    "```\n",
    "\n",
    "and is equivalent to\n",
    "\n",
    "```\n",
    "[10: skip=True]\n",
    "```\n",
    "\n",
    "The whole step will be skipped as if it is not defined at all in the script. This option provides a quick method to disable a step.\n",
    "\n",
    "The second format takes a value, which is usually an expression that will be evaluated when the step is executed. For example, step 10 is by default executed by default"
   ]
  },
  {
   "cell_type": "code",
   "execution_count": 5,
   "metadata": {
    "collapsed": false
   },
   "outputs": [
    {
     "name": "stdout",
     "output_type": "stream",
     "text": [
      "default_10 is executed\n"
     ]
    }
   ],
   "source": [
    "parameter: qc = True\n",
    "[10 (quality check): skip=not qc]\n",
    "print(\"${step_name} is executed\")"
   ]
  },
  {
   "cell_type": "markdown",
   "metadata": {},
   "source": [
    "but will not be executed if the workflow is executed with option `--no-qc` (for `qc=False`)"
   ]
  },
  {
   "cell_type": "code",
   "execution_count": 7,
   "metadata": {
    "collapsed": true
   },
   "outputs": [],
   "source": [
    "%run --no-qc\n",
    "parameter: qc = True\n",
    "[10 (quality check): skip=not qc]\n",
    "print(\"${step_name} is executed\")"
   ]
  },
  {
   "cell_type": "markdown",
   "metadata": {},
   "source": [
    "### Option `sigil`\n",
    "\n",
    "Option `sigil` accepts a string for an alternative sigil, or `None` to disable string interpolation in the step. The sigil must be two strings separated by a space, such as `%( )`, `< >`, and `#{ }`. Sigils with equal left and right symbol such as `# #` can be used although they do not support features such as nested interpolation."
   ]
  },
  {
   "cell_type": "markdown",
   "metadata": {},
   "source": [
    "### Option `shared`"
   ]
  },
  {
   "cell_type": "markdown",
   "metadata": {},
   "source": [
    "SoS executes each step in a separate process and by default does not return any result to the master SoS process. Option `shared` is used to share variables between steps. This option accepts:\n",
    "\n",
    "* A string (variable name), or\n",
    "* A map between variable names and expressions (strings) that will be evaluated upon the completion of the step.\n",
    "* A sequence of strings (variables) or maps.\n",
    "\n",
    "After the completion of a step, local variables defined in the `shared` option will be sent to the global environment so that later steps can use the updated value. For example,"
   ]
  },
  {
   "cell_type": "code",
   "execution_count": null,
   "metadata": {
    "collapsed": true
   },
   "outputs": [],
   "source": [
    "parameter: trim = False\n",
    "parameter: input_files = list\n",
    "\n",
    "[10: shared={'input_files':'output'}, skip=trim is False]\n",
    "input:  input_files, group_by=1\n",
    "output: '${_input[0]}.trimmed'\n",
    "\n",
    "sh:\n",
    "    trim ${input} > ${output}\n",
    "\n",
    "[20]\n",
    "input: input_files\n",
    "# do something"
   ]
  },
  {
   "cell_type": "markdown",
   "metadata": {},
   "source": [
    "In this example, `trim` is an option to trim input files defined in another parameter `input_files`. If `trim` is false, step 10 is ignored and step 20 handles `input_files`. If `trim` is True, the files are trimmed and produces `${_input[0]}.trimmed`. Variable `input_files` are sent back to the global environment so that step 20 would be handling the trimmed version of input files."
   ]
  },
  {
   "cell_type": "markdown",
   "metadata": {},
   "source": [
    "A map syntax is recommended to share `output` of one step with others, because the variable assignment will be evaluated only after the step is complete:"
   ]
  },
  {
   "cell_type": "code",
   "execution_count": null,
   "metadata": {
    "collapsed": true
   },
   "outputs": [],
   "source": [
    "[1: shared = {'test_output': 'output'}]\n",
    "...\n",
    "[2]\n",
    "input: test_output"
   ]
  },
  {
   "cell_type": "markdown",
   "metadata": {},
   "source": [
    "The map syntax is evaluated as expressions; therefore it is possible to finer control what specific output, or variations of output, to share with others. For example:"
   ]
  },
  {
   "cell_type": "code",
   "execution_count": null,
   "metadata": {
    "collapsed": true
   },
   "outputs": [],
   "source": [
    "[1: shared={'test_output_1':'output[0]', 'test_output_2': 'output[1]'}]\n",
    "...\n",
    "[2]\n",
    "input: test_output_1"
   ]
  },
  {
   "cell_type": "markdown",
   "metadata": {},
   "source": [
    "to shared the first file in `output` (filename `output[0]`) instead of the entire output file list.\n",
    "\n",
    "NOTE: Because global variables are readonly, they cannot be changed by individual steps through the `shared` option. Shared variable therefore has to be either new variables or parameters.\n",
    "\n",
    "The `shared` option also provides a `sos_variable` target. Please refer to section [auxiliary step](Auxiliary_steps.html) for details."
   ]
  },
  {
   "cell_type": "markdown",
   "metadata": {},
   "source": [
    "### Option `provides`\n",
    "\n",
    "This option lists files or targets a step generates so that it can be called if the target is required but does not exist. Please see section [auxiliary step](Auxiliary_Steps.html) for details. A step can be treated as both a forward step and an auxiliary step despite of the differences on how they are invoked."
   ]
  },
  {
   "cell_type": "code",
   "execution_count": null,
   "metadata": {
    "collapsed": true
   },
   "outputs": [],
   "source": []
  }
 ],
 "metadata": {
  "anaconda-cloud": {},
  "kernelspec": {
   "display_name": "SoS",
   "language": "sos",
   "name": "sos"
  },
  "language_info": {
   "codemirror_mode": "sos",
   "file_extension": ".sos",
   "mimetype": "text/x-sos",
   "name": "sos",
   "nbconvert_exporter": "sos.kernel.SoS_Exporter",
   "pygments_lexer": "sos"
  }
 },
 "nbformat": 4,
 "nbformat_minor": 1
}
