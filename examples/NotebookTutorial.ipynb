{
 "cells": [
  {
   "cell_type": "markdown",
   "metadata": {},
   "source": [
    "# Introduction to SoS notebook\n",
    "\n",
    "Script of Scripts (SoS) is a workflow engine that allows you to create and execute workflows that consist of scripts in different languages. You can use sos as a notebook tool to execute scripts interactively, or as a workflow tool to execute workflows in batch mode under different environments. This introduction demonstrates the first method of using SoS."
   ]
  },
  {
   "cell_type": "markdown",
   "metadata": {},
   "source": [
    "## Starting SoS notebook\n",
    "\n",
    "If you have Python 3 (>=3.4.0) installed, installation of SoS can usually be done using command\n",
    "\n",
    "```\n",
    "% pip3 install sos\n",
    "```\n",
    "or\n",
    "\n",
    "```\n",
    "% pip install sos\n",
    "```\n",
    "depending on your system configuration. This command will also install Jupyter notebook and the SoS kernel for Jupyter.\n",
    "\n",
    "After installation you can check if you have everything ready by running command"
   ]
  },
  {
   "cell_type": "code",
   "execution_count": 19,
   "metadata": {
    "collapsed": false
   },
   "outputs": [
    {
     "name": "stdout",
     "output_type": "stream",
     "text": [
      "Available kernels:\n",
      "  python3    /Users/bpeng1/bin/anaconda/lib/python3.5/site-packages/ipykernel/resources\n",
      "  ir         /Users/bpeng1/Library/Jupyter/kernels/ir\n",
      "  sos        /usr/local/share/jupyter/kernels/sos\n"
     ]
    },
    {
     "name": "stderr",
     "output_type": "stream",
     "text": [
      "/bin/bash:\n",
      "    jupyter kernelspec list\n"
     ]
    }
   ],
   "source": [
    "run:\n",
    "   jupyter kernelspec list"
   ]
  },
  {
   "cell_type": "markdown",
   "metadata": {},
   "source": [
    "Here I am using SoS to run the shell command with a `run` action but you should see similar output if you enter the command from a terminal. If the command runs and outputs a kernel named `sos`, you can start Jupyter notebook using command\n",
    "\n",
    "```\n",
    "% jupyter notebook\n",
    "```\n",
    "and select `SoS` when you start a new notebook. Note that you will need to install the [IRkernel](https://github.com/IRkernel/IRkernel) if you would like to use R in SoS notebooks."
   ]
  },
  {
   "cell_type": "markdown",
   "metadata": {},
   "source": [
    "## Basic SoS\n",
    "\n",
    "SoS is based on a slightly modified Python 3 syntax, with two syntax differences. The first one is that all single-triple quote strings are raw strings. That it to say, if you use `\\n` in a triple-quote string, you will get the raw string as follows,"
   ]
  },
  {
   "cell_type": "code",
   "execution_count": 20,
   "metadata": {
    "collapsed": false
   },
   "outputs": [
    {
     "name": "stdout",
     "output_type": "stream",
     "text": [
      "'\\nthis is my string with \\\\n\\n'"
     ]
    }
   ],
   "source": [
    "myscript = '''\n",
    "this is my string with \\n\n",
    "'''\n",
    "myscript"
   ]
  },
  {
   "cell_type": "markdown",
   "metadata": {},
   "source": [
    "In comparison, if you define such a string in pure python, `\\n` will be interpretted as newline."
   ]
  },
  {
   "cell_type": "code",
   "execution_count": 21,
   "metadata": {
    "collapsed": false
   },
   "outputs": [
    {
     "name": "stdout",
     "output_type": "stream",
     "text": [
      "'\\nthis is my string with \\n\\n'\n"
     ]
    },
    {
     "name": "stderr",
     "output_type": "stream",
     "text": [
      "python:\n",
      "    myscript = '''\n",
      "    this is my string with \\n\n",
      "    '''\n",
      "    print(repr(myscript))\n"
     ]
    }
   ],
   "source": [
    "python:\n",
    "myscript = '''\n",
    "this is my string with \\n\n",
    "'''\n",
    "print(repr(myscript))"
   ]
  },
  {
   "cell_type": "markdown",
   "metadata": {},
   "source": [
    "Another difference is that SoS treats all strings as format string with string interpolation. Using the default sigil `${ }`, all variables and expressions between `${` and `}` will be evaluated and replaced with their values. The complete rules are defined in the [SoS documentation](https://github.com/BoPeng/SOS/wiki/Documentation#string-interpolation) but here are some examples:"
   ]
  },
  {
   "cell_type": "code",
   "execution_count": 22,
   "metadata": {
    "collapsed": false
   },
   "outputs": [
    {
     "name": "stdout",
     "output_type": "stream",
     "text": [
      "There are 3 samples with names sampleA, sampleB, sampleC.\n"
     ]
    }
   ],
   "source": [
    "resource   = '~/resources'\n",
    "ref_genome = '${resource}/ref_genome/hg19'\n",
    "samples    = ['sampleA', 'sampleB', 'sampleC']\n",
    "print('There are ${len(samples)} samples with names ${samples!,}.')"
   ]
  },
  {
   "cell_type": "markdown",
   "metadata": {},
   "source": [
    "Here the variables are all stored in a SoS dictionary. You can print values of individual variables using "
   ]
  },
  {
   "cell_type": "code",
   "execution_count": 23,
   "metadata": {
    "collapsed": false
   },
   "outputs": [
    {
     "name": "stdout",
     "output_type": "stream",
     "text": [
      "'~/resources/ref_genome/hg19'"
     ]
    }
   ],
   "source": [
    "ref_genome"
   ]
  },
  {
   "cell_type": "markdown",
   "metadata": {},
   "source": [
    "or using a SoS magic `%dict` to check the content of this dictionary."
   ]
  },
  {
   "cell_type": "code",
   "execution_count": 24,
   "metadata": {
    "collapsed": false
   },
   "outputs": [
    {
     "name": "stdout",
     "output_type": "stream",
     "text": [
      "{'output', 'resource', 'input', 'myscript', 'ref_genome', 'CONFIG', '_output', 'run_mode', 'sys', '_depends', '_index', 'SOS_SCRIPT', 'SOS_VERSION', 'step_name', 'samples', 'glob', '_input', 'depends', 'os'}"
     ]
    }
   ],
   "source": [
    "%dict keys"
   ]
  },
  {
   "cell_type": "markdown",
   "metadata": {},
   "source": [
    "These are the variables that can be used in the notebook to, for example, compose scripts in other langauges. For example, you can call a shell command with variable `ref_genome`"
   ]
  },
  {
   "cell_type": "code",
   "execution_count": 25,
   "metadata": {
    "collapsed": false
   },
   "outputs": [
    {
     "name": "stdout",
     "output_type": "stream",
     "text": [
      "/Users/bpeng1/resources/ref_genome/hg19\n"
     ]
    },
    {
     "name": "stderr",
     "output_type": "stream",
     "text": [
      "/bin/bash:\n",
      "    echo /Users/bpeng1/resources/ref_genome/hg19\n"
     ]
    }
   ],
   "source": [
    "run:\n",
    "    echo ${ref_genome!e}"
   ]
  },
  {
   "cell_type": "markdown",
   "metadata": {},
   "source": [
    "Here we used variable `ref_genome` with convertion `e` (`os.path.expanduser`) to create a script and use `bash` to execute it."
   ]
  },
  {
   "cell_type": "markdown",
   "metadata": {},
   "source": [
    "## Using other languages\n"
   ]
  },
  {
   "cell_type": "markdown",
   "metadata": {},
   "source": [
    "There are two ways to use other languages in SoS.\n",
    "\n",
    "1. **Create scripts and use SoS to execute them** as you have seen for cells that start with `run:` and `python:`. This method requires the availability of the underlying interpreter (`bash`, `python`, `R` etc) but not corresponding Jupyter kernels. The scripts must be complete in this case.\n",
    "\n",
    "2. **Start separate kernels using SoS magics `%with` and `%use` **. The `%with` magic allows you to execute a cell in a separate kernel, and `%use` magic allows you to switch to another kenel until you switch back. The scripts and commands will be executed in the kernels interactively and have access to variables in previous runs."
   ]
  },
  {
   "cell_type": "code",
   "execution_count": 26,
   "metadata": {
    "collapsed": false
   },
   "outputs": [
    {
     "data": {
      "text/html": [
       "<ol class=list-inline>\n",
       "\t<li>0.610189658200604</li>\n",
       "\t<li>0.00601523474835603</li>\n",
       "\t<li>-1.19085576126309</li>\n",
       "\t<li>-0.666629964569519</li>\n",
       "\t<li>-1.03077792486392</li>\n",
       "</ol>\n"
      ],
      "text/latex": [
       "\\begin{enumerate*}\n",
       "\\item 0.610189658200604\n",
       "\\item 0.00601523474835603\n",
       "\\item -1.19085576126309\n",
       "\\item -0.666629964569519\n",
       "\\item -1.03077792486392\n",
       "\\end{enumerate*}\n"
      ],
      "text/markdown": [
       "1. 0.610189658200604\n",
       "2. 0.00601523474835603\n",
       "3. -1.19085576126309\n",
       "4. -0.666629964569519\n",
       "5. -1.03077792486392\n",
       "\n",
       "\n"
      ],
      "text/plain": [
       "[1]  0.610189658  0.006015235 -1.190855761 -0.666629965 -1.030777925"
      ]
     },
     "execution_count": 5,
     "metadata": {},
     "output_type": "execute_result"
    }
   ],
   "source": [
    "%with R\n",
    "numbers = rnorm(5)\n",
    "numbers"
   ]
  },
  {
   "cell_type": "markdown",
   "metadata": {},
   "source": [
    "SoS will switch back to the SoS kernel after the evaluation. It is also worth noting that the communication is one-directional in that whereas the scripts can be created using SoS variables, SoS does not collect any result from another kernel (to which SoS knows nothing). For example, the `numbers` variable in the IR kernel is unknown to SoS:"
   ]
  },
  {
   "cell_type": "code",
   "execution_count": 27,
   "metadata": {
    "collapsed": false
   },
   "outputs": [
    {
     "name": "stderr",
     "output_type": "stream",
     "text": [
      "SoS workflow contains errors: default\n",
      "[numbers ] NameError:\n",
      "\tname 'numbers' is not defined"
     ]
    }
   ],
   "source": [
    "numbers"
   ]
  },
  {
   "cell_type": "markdown",
   "metadata": {},
   "source": [
    "Now, if you have a long script that you would like to debug line by line, you can switch to another kernel and switch back until you are done:"
   ]
  },
  {
   "cell_type": "code",
   "execution_count": null,
   "metadata": {
    "collapsed": true
   },
   "outputs": [],
   "source": [
    "%use R"
   ]
  },
  {
   "cell_type": "code",
   "execution_count": null,
   "metadata": {
    "collapsed": false
   },
   "outputs": [],
   "source": [
    "numbers"
   ]
  },
  {
   "cell_type": "code",
   "execution_count": null,
   "metadata": {
    "collapsed": false
   },
   "outputs": [],
   "source": [
    "plot(numbers)"
   ]
  },
  {
   "cell_type": "code",
   "execution_count": null,
   "metadata": {
    "collapsed": true
   },
   "outputs": [],
   "source": [
    "%use sos\n",
    "# this magic switch the notebook back to SoS kernel"
   ]
  },
  {
   "cell_type": "markdown",
   "metadata": {},
   "source": [
    "## SoS steps\n",
    "\n",
    "In addition to variable definitions and execution of scripts, notebook cells can contain arbitrary SoS statements and steps. This section demonstrates some of the features that are most useful for interactive use. Please refer to the [SoS documentation](https://github.com/BoPeng/SOS/wiki/Documentation) for a complete reference.\n",
    "\n",
    "First, you can specify one or more output files in each step. Other than using variables `_output` and `output` for the script, SOS can preview the output files for most file types."
   ]
  },
  {
   "cell_type": "code",
   "execution_count": null,
   "metadata": {
    "collapsed": false
   },
   "outputs": [],
   "source": [
    "output: 'test.jpg'\n",
    "R:\n",
    "    jpeg('${output}')\n",
    "    plot(rnorm(100))\n",
    "    dev.off()"
   ]
  },
  {
   "cell_type": "markdown",
   "metadata": {},
   "source": [
    "The `%set` magic can be used to set SoS options such as verbosity (`-v`), tracribe (`-t`), prepare mode (`-p`). For example, the following example turns on logging and transcription mode so that SoS prints out step input, output, and a copy of the script executed. The options are useful for debugging and you can turn them off using `%set` (set option to empty string)."
   ]
  },
  {
   "cell_type": "code",
   "execution_count": 28,
   "metadata": {
    "collapsed": false
   },
   "outputs": [
    {
     "name": "stdout",
     "output_type": "stream",
     "text": [
      "Processing rnaseq_tutorial.sos\n"
     ]
    },
    {
     "name": "stderr",
     "output_type": "stream",
     "text": [
      "INFO: Execute \u001b[32mdefault_0\u001b[0m: \n",
      "INFO: input:   \u001b[32m['rnaseq_tutorial.sos']\u001b[0m\n",
      "/bin/bash:\n",
      "    echo Processing  rnaseq_tutorial.sos\n"
     ]
    },
    {
     "data": {
      "text/html": [
       "<br>"
      ]
     },
     "metadata": {},
     "output_type": "display_data"
    },
    {
     "data": {
      "text/html": [
       "<pre> input: <a href=\"rnaseq_tutorial.sos\">rnaseq_tutorial.sos</a>\n",
       "output: \n",
       "</pre>"
      ]
     },
     "metadata": {},
     "output_type": "display_data"
    }
   ],
   "source": [
    "%set -v2 -t\n",
    "input: '*.sos', group_by='single'\n",
    "run:\n",
    "    echo Processing  ${_input}"
   ]
  },
  {
   "cell_type": "markdown",
   "metadata": {},
   "source": [
    "## Reports"
   ]
  },
  {
   "cell_type": "markdown",
   "metadata": {
    "collapsed": false
   },
   "source": [
    "The markdown cells of Jupyter notebook are static report because they do not interact with SoS. If you would like to display reports in markdown format, with string interpolation, you can use the SoS report lines (lines start with `! `) and `report` action, as demonstrated in the following cells. "
   ]
  },
  {
   "cell_type": "code",
   "execution_count": 30,
   "metadata": {
    "collapsed": false
   },
   "outputs": [
    {
     "data": {
      "text/markdown": [
       "This expriment has 3 samples with names sampleA, sampleB, sampleC"
      ]
     },
     "metadata": {},
     "output_type": "display_data"
    }
   ],
   "source": [
    "! This expriment has ${len(samples)} samples with names ${samples!,}"
   ]
  },
  {
   "cell_type": "code",
   "execution_count": 31,
   "metadata": {
    "collapsed": false
   },
   "outputs": [
    {
     "data": {
      "text/markdown": [
       "### sample description\n",
       "This experiment has 3 samples with names sampleA, sampleB, sampleC"
      ]
     },
     "metadata": {},
     "output_type": "display_data"
    }
   ],
   "source": [
    "report:\n",
    "  ### sample description\n",
    "  This experiment has ${len(samples)} samples with names ${samples!,}"
   ]
  },
  {
   "cell_type": "markdown",
   "metadata": {
    "collapsed": true
   },
   "source": [
    "## Convert SoS notebooks to real SoS workflows\n",
    "\n",
    "The SoS notebooks are good for interactive data analysis, but not for the execution of large workflows. There are also major differences on how SoS steps are executed in Jupyter notebook and in batch mode. More specifically,\n",
    "\n",
    "1. Steps should be put after section headers with logical order of execution.\n",
    "2. Scripts are executed as complete scripts so they have to be complete/self-contained.\n",
    "3. Variables in steps are global in interactive mode but are private in batch mode.\n",
    "\n",
    "If you would like to convert your notebook to a workflow, you will need to\n",
    "\n",
    "1. Remove all %magics from the notebook because these are not understood by SoS\n",
    "2. Convert the notebook from `.ipynb` format to `.sos` format by `File`->`Download as`->`SoS (.sos)`, or by running command \n",
    "\n",
    "    ```\n",
    "    sos convert mynote.ipynb --sos mynote.sos\n",
    "    ```\n",
    "3. Edit the resulting `.sos` file to add appropriate section head and test it using `sos` command."
   ]
  },
  {
   "cell_type": "code",
   "execution_count": null,
   "metadata": {
    "collapsed": true
   },
   "outputs": [],
   "source": []
  }
 ],
 "metadata": {
  "kernelspec": {
   "display_name": "SoS",
   "language": "sos",
   "name": "sos"
  },
  "language_info": {
   "codemirror_mode": "sos",
   "file_extension": ".sos",
   "mimetype": "text/x-sos",
   "name": "sos",
   "nbconvert_exporter": "pysos.kernel.SoS_Exporter",
   "pygments_lexer": "sos"
  }
 },
 "nbformat": 4,
 "nbformat_minor": 0
}
