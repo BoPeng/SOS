{
 "cells": [
  {
   "cell_type": "markdown",
   "metadata": {},
   "source": [
    "# Introduction to SoS notebook\n",
    "\n",
    "Bo Peng, Nov. 2016\n",
    "\n",
    "Script of Scripts ([SoS](http://bopeng.github.io/SOS/)) provides a file format, a workflow engine, as well as environments in which you can compose and execute scripts in multiple languages. This notebook demonstrates how to use SoS as a notebook tool using [Jupyter](http://jupyter.org/).\n",
    "\n",
    "The newest version of this tutorial will always be available at the public SoS server."
   ]
  },
  {
   "cell_type": "markdown",
   "metadata": {},
   "source": [
    "## Starting SoS notebook\n",
    "\n",
    "If you have Python 3 (>=3.4.0) installed, installation of SoS can usually be done using command\n",
    "\n",
    "```\n",
    "% pip3 install sos\n",
    "```\n",
    "or\n",
    "\n",
    "```\n",
    "% pip install sos\n",
    "```\n",
    "depending on your system configuration. This command will also install Jupyter notebook and the SoS kernel for Jupyter.\n",
    "\n",
    "After installation you can check if you have everything ready by running command"
   ]
  },
  {
   "cell_type": "code",
   "execution_count": 1,
   "metadata": {
    "collapsed": false
   },
   "outputs": [
    {
     "name": "stderr",
     "output_type": "stream",
     "text": []
    },
    {
     "name": "stdout",
     "output_type": "stream",
     "text": [
      "Available kernels:\n",
      "  python3    /Users/bpeng1/bin/anaconda/lib/python3.5/site-packages/ipykernel/resources\n",
      "  ir         /Users/bpeng1/Library/Jupyter/kernels/ir\n",
      "  sos        /Users/bpeng1/bin/anaconda/share/jupyter/kernels/sos\n"
     ]
    },
    {
     "name": "stderr",
     "output_type": "stream",
     "text": []
    },
    {
     "name": "stdout",
     "output_type": "stream",
     "text": []
    }
   ],
   "source": [
    "# you can run any shell command with a leading !\n",
    "!jupyter kernelspec list"
   ]
  },
  {
   "cell_type": "markdown",
   "metadata": {},
   "source": [
    "If the command runs and outputs a kernel named `sos`, you can start Jupyter notebook using command\n",
    "\n",
    "```\n",
    "% jupyter notebook\n",
    "```\n",
    "and select `SoS` when you start a new notebook. Note that you will need to install the [IRkernel](https://github.com/IRkernel/IRkernel) if you would like to use R in SoS notebooks.\n",
    "\n",
    "SoS provides a public Jupyter server that runs a Docker image with SoS, Python, R and many related tools. You can use SoS with this server directly without a local installation of SoS."
   ]
  },
  {
   "cell_type": "markdown",
   "metadata": {},
   "source": [
    "## String interpolation\n",
    "\n",
    "SoS is based on Python 3 syntax so you can execute any valid Python expression and statements in a SoS notebook. For example, you can import module, define and run functions in a cell"
   ]
  },
  {
   "cell_type": "code",
   "execution_count": 1,
   "metadata": {
    "collapsed": false
   },
   "outputs": [
    {
     "name": "stderr",
     "output_type": "stream",
     "text": []
    },
    {
     "name": "stdout",
     "output_type": "stream",
     "text": [
      "Jack throws 2\n",
      "Jill throws 1\n"
     ]
    }
   ],
   "source": [
    "import random\n",
    "def dice(name):\n",
    "    print('{} throws {}'.format(name, random.randint(1, 6)))\n",
    "dice('Jack')\n",
    "dice('Jill')\n"
   ]
  },
  {
   "cell_type": "markdown",
   "metadata": {},
   "source": [
    "To make it easier to compose scripts in different languages, SoS treats all strings as format strings that can be **interpolated**. Using a default sigil (symbols to enclose expressions) of `${ }`, you can use arbitrary Python expressions in a string. this example uses the **%preview** magic of SoS kernel to display the value of SoS variables"
   ]
  },
  {
   "cell_type": "code",
   "execution_count": 7,
   "metadata": {
    "collapsed": false
   },
   "outputs": [
    {
     "name": "stderr",
     "output_type": "stream",
     "text": []
    },
    {
     "name": "stdout",
     "output_type": "stream",
     "text": []
    },
    {
     "data": {
      "text/html": [
       "<pre><font color=\"green\">## %preview ref_genome</font></pre>"
      ]
     },
     "metadata": {},
     "output_type": "display_data"
    },
    {
     "data": {
      "text/html": [
       "<pre><font color=\"green\">> ref_genome:</font></pre>"
      ],
      "text/plain": [
       ">>> ref_genome:\n"
      ]
     },
     "metadata": {},
     "output_type": "display_data"
    },
    {
     "data": {
      "text/plain": [
       "'~/resources/ref_genome/hg19'"
      ]
     },
     "metadata": {},
     "output_type": "display_data"
    }
   ],
   "source": [
    "%preview ref_genome \n",
    "resource   = '~/resources'\n",
    "ref_genome = '${resource}/ref_genome/hg19'"
   ]
  },
  {
   "cell_type": "markdown",
   "metadata": {},
   "source": [
    "You can use any Python expression for string interpolation, and the result can be formated using format (:) and convertion (!) specifications. For example, the \"!,\" converter joins items in a sequence by \" ,\"."
   ]
  },
  {
   "cell_type": "code",
   "execution_count": 6,
   "metadata": {
    "collapsed": false
   },
   "outputs": [
    {
     "name": "stderr",
     "output_type": "stream",
     "text": []
    },
    {
     "name": "stdout",
     "output_type": "stream",
     "text": [
      "3 samples with names sampleA, sampleB, sampleC.\n"
     ]
    }
   ],
   "source": [
    "samples    = ['sampleA', 'sampleB', 'sampleC']\n",
    "print('${len(samples)} samples with names ${samples!,}.')"
   ]
  },
  {
   "cell_type": "markdown",
   "metadata": {},
   "source": [
    "## Compose and execute scripts\n",
    "\n",
    "SoS relies on string interpolation to compose scripts that can be executed by other interpreters. For example, the following creates a bash scripts and executes it. The \"`e`\" converter performs \"`os.path.expanduser`\", which is frequently required for user-specified path."
   ]
  },
  {
   "cell_type": "code",
   "execution_count": 8,
   "metadata": {
    "collapsed": false
   },
   "outputs": [
    {
     "name": "stdout",
     "output_type": "stream",
     "text": [
      "/Users/bpeng1/resources/ref_genome/hg19\n"
     ]
    },
    {
     "name": "stderr",
     "output_type": "stream",
     "text": []
    },
    {
     "name": "stdout",
     "output_type": "stream",
     "text": []
    }
   ],
   "source": [
    "run:\n",
    "    echo ${ref_genome!e}"
   ]
  },
  {
   "cell_type": "markdown",
   "metadata": {},
   "source": [
    "The \"`run`\" statement is a SoS **action** written in a special script style. It is equivalent to "
   ]
  },
  {
   "cell_type": "code",
   "execution_count": 9,
   "metadata": {
    "collapsed": false
   },
   "outputs": [
    {
     "name": "stdout",
     "output_type": "stream",
     "text": [
      "/Users/bpeng1/resources/ref_genome/hg19\n"
     ]
    },
    {
     "name": "stderr",
     "output_type": "stream",
     "text": []
    },
    {
     "name": "stdout",
     "output_type": "stream",
     "text": []
    }
   ],
   "source": [
    "run(\"\"\"\n",
    "echo ${ref_genome!e}\n",
    "\"\"\")"
   ]
  },
  {
   "cell_type": "markdown",
   "metadata": {},
   "source": [
    "The script style is more readable than function style and is highly recommended. "
   ]
  },
  {
   "cell_type": "markdown",
   "metadata": {},
   "source": [
    "## Using other languages\n"
   ]
  },
  {
   "cell_type": "markdown",
   "metadata": {},
   "source": [
    "There are two ways to use other languages in SoS.\n",
    "\n",
    "1. **Create scripts and use SoS to execute them** as you have seen for cells that start with `run:` and `python:`. This method requires the availability of the underlying interpreter (`bash`, `python`, `R` etc) but not corresponding Jupyter kernels. The scripts must be complete in this case.\n",
    "\n",
    "2. **Start separate kernels using SoS magics `%with` and `%use` **. The `%with` magic allows you to execute a cell in a separate kernel, and `%use` magic allows you to switch to another kenel until you switch back. The scripts and commands will be executed in the kernels interactively and have access to variables in previous runs."
   ]
  },
  {
   "cell_type": "code",
   "execution_count": 7,
   "metadata": {
    "collapsed": false
   },
   "outputs": [
    {
     "data": {
      "text/html": [
       "<ol class=list-inline>\n",
       "\t<li>1.94405811220209</li>\n",
       "\t<li>0.268954329089589</li>\n",
       "\t<li>0.75516316707988</li>\n",
       "\t<li>-1.4833635771212</li>\n",
       "\t<li>0.499727410821639</li>\n",
       "</ol>\n"
      ],
      "text/latex": [
       "\\begin{enumerate*}\n",
       "\\item 1.94405811220209\n",
       "\\item 0.268954329089589\n",
       "\\item 0.75516316707988\n",
       "\\item -1.4833635771212\n",
       "\\item 0.499727410821639\n",
       "\\end{enumerate*}\n"
      ],
      "text/markdown": [
       "1. 1.94405811220209\n",
       "2. 0.268954329089589\n",
       "3. 0.75516316707988\n",
       "4. -1.4833635771212\n",
       "5. 0.499727410821639\n",
       "\n",
       "\n"
      ],
      "text/plain": [
       "[1]  1.9440581  0.2689543  0.7551632 -1.4833636  0.4997274"
      ]
     },
     "metadata": {},
     "output_type": "display_data"
    }
   ],
   "source": [
    "%with R\n",
    "numbers = rnorm(5)\n",
    "numbers"
   ]
  },
  {
   "cell_type": "markdown",
   "metadata": {},
   "source": [
    "SoS will switch back to the SoS kernel after the evaluation. It is also worth noting that the communication is one-directional in that whereas the scripts can be created using SoS variables, SoS does not collect any result from another kernel (to which SoS knows nothing). For example, the `numbers` variable in the IR kernel is unknown to SoS:"
   ]
  },
  {
   "cell_type": "code",
   "execution_count": 8,
   "metadata": {
    "collapsed": false
   },
   "outputs": [
    {
     "name": "stderr",
     "output_type": "stream",
     "text": []
    },
    {
     "name": "stdout",
     "output_type": "stream",
     "text": []
    },
    {
     "data": {
      "text/html": [
       "<hr color=\"black\" width=\"60%\">"
      ]
     },
     "metadata": {},
     "output_type": "display_data"
    },
    {
     "name": "stderr",
     "output_type": "stream",
     "text": []
    },
    {
     "name": "stdout",
     "output_type": "stream",
     "text": []
    },
    {
     "name": "stderr",
     "output_type": "stream",
     "text": [
      "Failed to process statement 'numbers': name 'numbers' is not defined"
     ]
    },
    {
     "name": "stdout",
     "output_type": "stream",
     "text": []
    },
    {
     "name": "stderr",
     "output_type": "stream",
     "text": []
    },
    {
     "name": "stdout",
     "output_type": "stream",
     "text": []
    },
    {
     "name": "stderr",
     "output_type": "stream",
     "text": []
    }
   ],
   "source": [
    "numbers"
   ]
  },
  {
   "cell_type": "markdown",
   "metadata": {},
   "source": [
    "Now, if you have a long script that you would like to debug line by line, you can switch to another kernel and switch back until you are done:"
   ]
  },
  {
   "cell_type": "code",
   "execution_count": 9,
   "metadata": {
    "collapsed": false
   },
   "outputs": [
    {
     "name": "stdout",
     "output_type": "stream",
     "text": []
    },
    {
     "name": "stderr",
     "output_type": "stream",
     "text": []
    },
    {
     "name": "stdout",
     "output_type": "stream",
     "text": []
    },
    {
     "name": "stderr",
     "output_type": "stream",
     "text": []
    }
   ],
   "source": [
    "%use R"
   ]
  },
  {
   "cell_type": "code",
   "execution_count": 10,
   "metadata": {
    "collapsed": false
   },
   "outputs": [
    {
     "data": {
      "text/html": [
       "<ol class=list-inline>\n",
       "\t<li>1.94405811220209</li>\n",
       "\t<li>0.268954329089589</li>\n",
       "\t<li>0.75516316707988</li>\n",
       "\t<li>-1.4833635771212</li>\n",
       "\t<li>0.499727410821639</li>\n",
       "</ol>\n"
      ],
      "text/latex": [
       "\\begin{enumerate*}\n",
       "\\item 1.94405811220209\n",
       "\\item 0.268954329089589\n",
       "\\item 0.75516316707988\n",
       "\\item -1.4833635771212\n",
       "\\item 0.499727410821639\n",
       "\\end{enumerate*}\n"
      ],
      "text/markdown": [
       "1. 1.94405811220209\n",
       "2. 0.268954329089589\n",
       "3. 0.75516316707988\n",
       "4. -1.4833635771212\n",
       "5. 0.499727410821639\n",
       "\n",
       "\n"
      ],
      "text/plain": [
       "[1]  1.9440581  0.2689543  0.7551632 -1.4833636  0.4997274"
      ]
     },
     "metadata": {},
     "output_type": "display_data"
    },
    {
     "name": "stdout",
     "output_type": "stream",
     "text": []
    },
    {
     "name": "stderr",
     "output_type": "stream",
     "text": []
    },
    {
     "name": "stdout",
     "output_type": "stream",
     "text": []
    },
    {
     "name": "stderr",
     "output_type": "stream",
     "text": []
    }
   ],
   "source": [
    "numbers"
   ]
  },
  {
   "cell_type": "code",
   "execution_count": 11,
   "metadata": {
    "collapsed": false
   },
   "outputs": [
    {
     "data": {
      "image/png": "[encoded data removed]",
      "text/plain": [
       "plot without title"
      ]
     },
     "metadata": {},
     "output_type": "display_data"
    },
    {
     "name": "stdout",
     "output_type": "stream",
     "text": []
    },
    {
     "name": "stderr",
     "output_type": "stream",
     "text": []
    },
    {
     "name": "stdout",
     "output_type": "stream",
     "text": []
    },
    {
     "name": "stderr",
     "output_type": "stream",
     "text": []
    }
   ],
   "source": [
    "plot(numbers)"
   ]
  },
  {
   "cell_type": "code",
   "execution_count": 12,
   "metadata": {
    "collapsed": false
   },
   "outputs": [
    {
     "name": "stderr",
     "output_type": "stream",
     "text": []
    },
    {
     "name": "stdout",
     "output_type": "stream",
     "text": []
    },
    {
     "name": "stderr",
     "output_type": "stream",
     "text": []
    },
    {
     "name": "stdout",
     "output_type": "stream",
     "text": []
    },
    {
     "name": "stderr",
     "output_type": "stream",
     "text": []
    }
   ],
   "source": [
    "%use sos\n",
    "# this magic switch the notebook back to SoS kernel"
   ]
  },
  {
   "cell_type": "markdown",
   "metadata": {},
   "source": [
    "## SoS steps\n",
    "\n",
    "In addition to variable definitions and execution of scripts, notebook cells can contain arbitrary SoS statements and steps. This section demonstrates some of the features that are most useful for interactive use. Please refer to the [SoS documentation](https://github.com/BoPeng/SOS/wiki/Documentation) for a complete reference.\n",
    "\n",
    "First, you can specify one or more output files in each step. Other than using variables `_output` and `output` for the script, SOS can preview the output files for most file types."
   ]
  },
  {
   "cell_type": "code",
   "execution_count": 13,
   "metadata": {
    "collapsed": false
   },
   "outputs": [
    {
     "name": "stdout",
     "output_type": "stream",
     "text": [
      "null device \n",
      "          1 \n"
     ]
    },
    {
     "name": "stderr",
     "output_type": "stream",
     "text": []
    },
    {
     "name": "stdout",
     "output_type": "stream",
     "text": []
    },
    {
     "data": {
      "text/html": [
       "<pre>## -- Preview output --</pre>"
      ]
     },
     "metadata": {},
     "output_type": "display_data"
    },
    {
     "data": {
      "text/html": [
       "<pre> input: \n",
       "output: <a target=\"_blank\" href=\"test.jpg\">test.jpg</a>\n",
       "</pre>"
      ]
     },
     "metadata": {},
     "output_type": "display_data"
    },
    {
     "name": "stdout",
     "output_type": "stream",
     "text": [
      "\n",
      "> test.jpg (24.5 KiB)"
     ]
    },
    {
     "data": {
      "image/jpeg": "[encoded data removed]",
      "image/png": "[encoded data removed]"
     },
     "metadata": {},
     "output_type": "display_data"
    },
    {
     "name": "stdout",
     "output_type": "stream",
     "text": []
    },
    {
     "name": "stderr",
     "output_type": "stream",
     "text": []
    },
    {
     "name": "stdout",
     "output_type": "stream",
     "text": []
    },
    {
     "name": "stderr",
     "output_type": "stream",
     "text": []
    }
   ],
   "source": [
    "output: 'test.jpg'\n",
    "R:\n",
    "    jpeg('${output}')\n",
    "    plot(rnorm(100))\n",
    "    dev.off()"
   ]
  },
  {
   "cell_type": "markdown",
   "metadata": {},
   "source": [
    "The `%set` magic can be used to set SoS options such as verbosity (`-v`), tracribe (`-t`), prepare mode (`-p`). For example, the following example turns on logging and transcription mode so that SoS prints out step input, output, and a copy of the script executed. The options are useful for debugging and you can turn them off using `%set` (set option to empty string)."
   ]
  },
  {
   "cell_type": "code",
   "execution_count": 14,
   "metadata": {
    "collapsed": false
   },
   "outputs": [
    {
     "name": "stdout",
     "output_type": "stream",
     "text": [
      "Processing rnaseq_tutorial.sos\n"
     ]
    },
    {
     "name": "stderr",
     "output_type": "stream",
     "text": []
    },
    {
     "name": "stdout",
     "output_type": "stream",
     "text": []
    },
    {
     "data": {
      "text/html": [
       "<pre>## -- Preview output --</pre>"
      ]
     },
     "metadata": {},
     "output_type": "display_data"
    },
    {
     "data": {
      "text/html": [
       "<pre> input: <a target=\"_blank\" href=\"rnaseq_tutorial.sos\">rnaseq_tutorial.sos</a>\n",
       "output: \n",
       "</pre>"
      ]
     },
     "metadata": {},
     "output_type": "display_data"
    },
    {
     "name": "stdout",
     "output_type": "stream",
     "text": []
    },
    {
     "name": "stderr",
     "output_type": "stream",
     "text": []
    },
    {
     "name": "stdout",
     "output_type": "stream",
     "text": []
    },
    {
     "name": "stderr",
     "output_type": "stream",
     "text": []
    }
   ],
   "source": [
    "%set -v2 -t\n",
    "input: '*.sos', group_by='single'\n",
    "run:\n",
    "    echo Processing  ${_input}"
   ]
  },
  {
   "cell_type": "code",
   "execution_count": 15,
   "metadata": {
    "collapsed": false
   },
   "outputs": [
    {
     "name": "stdout",
     "output_type": "stream",
     "text": [
      "sos options \"-v2 -t\" reset to \"\"\n"
     ]
    },
    {
     "name": "stderr",
     "output_type": "stream",
     "text": []
    },
    {
     "name": "stdout",
     "output_type": "stream",
     "text": []
    },
    {
     "data": {
      "text/html": [
       "<pre>## -- Preview output --</pre>"
      ]
     },
     "metadata": {},
     "output_type": "display_data"
    },
    {
     "data": {
      "text/html": [
       "<pre> input: <a target=\"_blank\" href=\"rnaseq_tutorial.sos\">rnaseq_tutorial.sos</a>\n",
       "output: \n",
       "</pre>"
      ]
     },
     "metadata": {},
     "output_type": "display_data"
    },
    {
     "name": "stdout",
     "output_type": "stream",
     "text": []
    },
    {
     "name": "stderr",
     "output_type": "stream",
     "text": []
    },
    {
     "name": "stdout",
     "output_type": "stream",
     "text": []
    },
    {
     "name": "stderr",
     "output_type": "stream",
     "text": []
    }
   ],
   "source": [
    "%set\n",
    "# use %set to reset these parameters"
   ]
  },
  {
   "cell_type": "markdown",
   "metadata": {},
   "source": [
    "## Preview of output files"
   ]
  },
  {
   "cell_type": "markdown",
   "metadata": {},
   "source": [
    "Note that it can be difficult to control the flow of reports if you execute cells in a notebook back and forth for debugging purposes. It might be needed to restart the SoS kernel and run all the cells sequentially to generate a clean report. "
   ]
  },
  {
   "cell_type": "markdown",
   "metadata": {
    "collapsed": true
   },
   "source": [
    "## Convert SoS notebooks to real SoS workflows\n",
    "\n",
    "The SoS notebooks are good for interactive data analysis, but not for the execution of large workflows. There are also major differences on how SoS steps are executed in Jupyter notebook and in batch mode. More specifically,\n",
    "\n",
    "1. Steps should be put after section headers with logical order of execution.\n",
    "2. Scripts are executed as complete scripts so they have to be complete/self-contained.\n",
    "3. Variables in steps are global in interactive mode but are private in batch mode.\n",
    "\n",
    "If you would like to convert your notebook to a workflow, you will need to\n",
    "\n",
    "1. Remove all %magics from the notebook because these are not understood by SoS\n",
    "2. Convert the notebook from `.ipynb` format to `.sos` format by `File`->`Download as`->`SoS (.sos)`, or by running command \n",
    "\n",
    "    ```\n",
    "    sos convert mynote.ipynb --sos mynote.sos\n",
    "    ```\n",
    "3. Edit the resulting `.sos` file to add appropriate section head and test it using `sos` command."
   ]
  },
  {
   "cell_type": "code",
   "execution_count": null,
   "metadata": {
    "collapsed": true
   },
   "outputs": [],
   "source": []
  }
 ],
 "metadata": {
  "kernelspec": {
   "display_name": "SoS",
   "language": "sos",
   "name": "sos"
  },
  "language_info": {
   "codemirror_mode": "sos",
   "file_extension": ".sos",
   "mimetype": "text/x-sos",
   "name": "sos",
   "nbconvert_exporter": "pysos.kernel.SoS_Exporter",
   "pygments_lexer": "sos"
  }
 },
 "nbformat": 4,
 "nbformat_minor": 0
}
